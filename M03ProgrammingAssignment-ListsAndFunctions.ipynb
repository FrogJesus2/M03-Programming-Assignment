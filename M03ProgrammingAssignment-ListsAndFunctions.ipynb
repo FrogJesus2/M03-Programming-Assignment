{
 "cells": [
  {
   "cell_type": "code",
   "execution_count": null,
   "id": "22baa1e4-b20d-48ac-bb7d-c2fa7ea64d49",
   "metadata": {},
   "outputs": [],
   "source": [
    "# 7.4\n",
    "things = ['mozzarella', 'cinderella', 'salmonella']"
   ]
  },
  {
   "cell_type": "code",
   "execution_count": null,
   "id": "dc174b5d-57f0-424d-a571-97b035509802",
   "metadata": {},
   "outputs": [],
   "source": [
    "# 7.5\n",
    "things = ['mozzarella', 'Cinderella', 'salmonella']\n",
    "print(things)\n",
    "# It changed the element by printing the first letter capitalized"
   ]
  },
  {
   "cell_type": "code",
   "execution_count": null,
   "id": "94be61fe-1f1b-434e-adea-77b7cadb8480",
   "metadata": {},
   "outputs": [],
   "source": [
    "# 7.6\n",
    "things = ['MOZZARELLA', 'Cinderella', 'salmonella']\n",
    "print(things)"
   ]
  },
  {
   "cell_type": "code",
   "execution_count": null,
   "id": "43550209-ab18-49ea-956b-5504da10afe4",
   "metadata": {},
   "outputs": [],
   "source": [
    "# 7.7 \n",
    "things = ['MOZZARELLA', 'Cinderella']\n",
    "print(things)"
   ]
  },
  {
   "cell_type": "code",
   "execution_count": null,
   "id": "41aa50dc-21e9-4b82-8545-9b6d2701950b",
   "metadata": {},
   "outputs": [],
   "source": [
    "# 9.1\n",
    "def good():\n",
    "    list = ['Harry', 'Ron', 'Hermione']\n",
    "    return list\n",
    "\n",
    "print(good())"
   ]
  }
 ],
 "metadata": {
  "kernelspec": {
   "display_name": "Python 3 (ipykernel)",
   "language": "python",
   "name": "python3"
  },
  "language_info": {
   "codemirror_mode": {
    "name": "ipython",
    "version": 3
   },
   "file_extension": ".py",
   "mimetype": "text/x-python",
   "name": "python",
   "nbconvert_exporter": "python",
   "pygments_lexer": "ipython3",
   "version": "3.11.7"
  }
 },
 "nbformat": 4,
 "nbformat_minor": 5
}
